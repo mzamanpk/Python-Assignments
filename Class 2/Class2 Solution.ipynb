{
 "cells": [
  {
   "cell_type": "code",
   "execution_count": 1,
   "metadata": {},
   "outputs": [
    {
     "name": "stdout",
     "output_type": "stream",
     "text": [
      "78.5\n"
     ]
    }
   ],
   "source": [
    "radius = 5\n",
    "pi = 3.14\n",
    "circle_area = pi*radius**2\n",
    "print(circle_area)"
   ]
  },
  {
   "cell_type": "code",
   "execution_count": 2,
   "metadata": {},
   "outputs": [
    {
     "name": "stdout",
     "output_type": "stream",
     "text": [
      "['Faisalabad', 'Islamabad', 'Karachi', 'Lahore', 'Quetta']\n",
      "[93.4, 95, 98.7, 87.4, 83.02]\n",
      "[45, 70, 54, 90, 42]\n"
     ]
    }
   ],
   "source": [
    "cities = [\"Faisalabad\", \"Islamabad\", \"Karachi\", \"Lahore\", \"Quetta\"]\n",
    "result = [93.4, 95, 98.7, 87.4, 83.02]\n",
    "score  = [45, 70, 54, 90, 42]\n",
    "print(cities)\n",
    "print(result)\n",
    "print(score)"
   ]
  }
 ],
 "metadata": {
  "kernelspec": {
   "display_name": "Python 3",
   "language": "python",
   "name": "python3"
  },
  "language_info": {
   "codemirror_mode": {
    "name": "ipython",
    "version": 3
   },
   "file_extension": ".py",
   "mimetype": "text/x-python",
   "name": "python",
   "nbconvert_exporter": "python",
   "pygments_lexer": "ipython3",
   "version": "3.7.4"
  }
 },
 "nbformat": 4,
 "nbformat_minor": 2
}
