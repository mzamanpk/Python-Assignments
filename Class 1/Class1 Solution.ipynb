{
 "cells": [
  {
   "cell_type": "code",
   "execution_count": 1,
   "metadata": {},
   "outputs": [
    {
     "name": "stdout",
     "output_type": "stream",
     "text": [
      "Hello, Muhammad Zaman \n",
      "Your application is accepted for BS Botany at GC University Faisalabad.\n"
     ]
    }
   ],
   "source": [
    "name = \"Muhammad Zaman\"\n",
    "age = \"21\"\n",
    "myclass = \"BS Botany\"\n",
    "university = \"GC University Faisalabad\"\n",
    "message = \"Hello, {myname} \\nYour application is accepted for {myclass} at {myuniversity}.\".format(myname=name, myclass=myclass, myuniversity=university)\n",
    "print(message)"
   ]
  }
 ],
 "metadata": {
  "kernelspec": {
   "display_name": "Python 3",
   "language": "python",
   "name": "python3"
  },
  "language_info": {
   "codemirror_mode": {
    "name": "ipython",
    "version": 3
   },
   "file_extension": ".py",
   "mimetype": "text/x-python",
   "name": "python",
   "nbconvert_exporter": "python",
   "pygments_lexer": "ipython3",
   "version": "3.7.4"
  }
 },
 "nbformat": 4,
 "nbformat_minor": 2
}
